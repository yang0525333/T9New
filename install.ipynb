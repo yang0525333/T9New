{
  "cells": [
    {
      "cell_type": "markdown",
      "metadata": {
        "id": "view-in-github",
        "colab_type": "text"
      },
      "source": [
        "<a href=\"https://colab.research.google.com/github/yang0525333/T9New/blob/Heroku-main/install.ipynb\" target=\"_parent\"><img src=\"https://colab.research.google.com/assets/colab-badge.svg\" alt=\"Open In Colab\"/></a>"
      ]
    },
    {
      "cell_type": "code",
      "source": [
        "from google.colab import drive\n",
        "drive.mount('/content/drive')\n"
      ],
      "metadata": {
        "id": "1DFbyXsHrXKp"
      },
      "execution_count": null,
      "outputs": []
    },
    {
      "cell_type": "code",
      "source": [
        "!apt-get -y install -qq aria2 libcairo2-dev pkg-config python3-dev\n"
      ],
      "metadata": {
        "id": "_gyivUaYrhAt"
      },
      "execution_count": null,
      "outputs": []
    },
    {
      "cell_type": "code",
      "source": [
        "!git clone -b v2.2 https://github.com/camenduru/stable-diffusion-webui /content/drive/MyDrive/stable-diffusion-webui-colab/stable-diffusion-webui\n"
      ],
      "metadata": {
        "id": "pBFbAP4RruQy"
      },
      "execution_count": null,
      "outputs": []
    },
    {
      "cell_type": "code",
      "source": [
        "%env PYTHONDONTWRITEBYTECODE=1\n"
      ],
      "metadata": {
        "id": "iyonq6Gprx5G"
      },
      "execution_count": null,
      "outputs": []
    },
    {
      "cell_type": "code",
      "source": [
        "%cd /content/drive/MyDrive/stable-diffusion-webui-colab/stable-diffusion-webui\n",
        "!pip install -r requirements.txt\n"
      ],
      "metadata": {
        "id": "4zUFicoLrzRA"
      },
      "execution_count": null,
      "outputs": []
    },
    {
      "cell_type": "code",
      "source": [
        "!aria2c --dir=/content/drive/MyDrive/stable-diffusion-webui-colab/stable-diffusion-webui/models/Stable-diffusion -x 16 -s 16 https://huggingface.co/CompVis/stable-diffusion-v-1-5/resolve/main/v1-5-pruned-emaonly.ckpt\n"
      ],
      "metadata": {
        "id": "L_xbuJfZr1yp"
      },
      "execution_count": null,
      "outputs": []
    },
    {
      "cell_type": "code",
      "source": [
        "!pip install --upgrade pip==23.0\n"
      ],
      "metadata": {
        "id": "qYN6laUfr5hG"
      },
      "execution_count": null,
      "outputs": []
    },
    {
      "cell_type": "code",
      "source": [
        "!pip install -r requirements_versions.txt\n"
      ],
      "metadata": {
        "id": "bJumsh-QsB8s"
      },
      "execution_count": null,
      "outputs": []
    }
  ],
  "metadata": {
    "colab": {
      "private_outputs": true,
      "provenance": [],
      "machine_shape": "hm",
      "gpuType": "A100",
      "include_colab_link": true
    },
    "kernelspec": {
      "display_name": "Python 3",
      "name": "python3"
    },
    "language_info": {
      "name": "python"
    },
    "accelerator": "GPU"
  },
  "nbformat": 4,
  "nbformat_minor": 0
}